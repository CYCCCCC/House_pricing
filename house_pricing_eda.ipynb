{
 "cells": [
  {
   "cell_type": "markdown",
   "metadata": {},
   "source": [
    "# Import"
   ]
  },
  {
   "cell_type": "markdown",
   "metadata": {},
   "source": [
    "## Packages"
   ]
  },
  {
   "cell_type": "code",
   "execution_count": 124,
   "metadata": {},
   "outputs": [],
   "source": [
    "import numpy as np\n",
    "import pandas as pd\n",
    "\n",
    "import re"
   ]
  },
  {
   "cell_type": "markdown",
   "metadata": {},
   "source": [
    "## Data"
   ]
  },
  {
   "cell_type": "code",
   "execution_count": 17,
   "metadata": {},
   "outputs": [],
   "source": [
    "# columns definition\n",
    "\n",
    "# col = 'district(鄉鎮市區)、rps01(交易標的)、rps02(土地區段位置建物區段門牌)、rps03(土地移轉總面積平方公尺)、rps04(都市土地使用分區)、rps05(非都市土地使用分區)、rps06(非都市土地使用編定)、rps07(交易年月日)、rps08(交易筆棟數)、rps09(移轉層次)、rps10(總樓層數)、rps11(建物型態)、rps12(主要用途)、rps13(主要建材)、rps14(建築完成年月)、rps15(建物移轉總面積平方公尺)、rps16(建物現況格局-房)、rps17(建物現況格局-廳)、rps18(建物現況格局-衛)、rps19(建物現況格局-隔間)、rps20(有無管理組織)、rps21(總價元)、rps22(單價元平方公尺)、rps23(車位類別)、rps24(車位移轉總面積平方公尺)、rps25(車位總價元)、rps26(備註)、rps27(編號)、rps28(主建物面積)、rps29(附屬建物面積)、rps30(陽台面積)、rps31(電梯)'\n",
    "\n",
    "# col_name = []\n",
    "# col_desc = []\n",
    "# col = col.split('、')\n",
    "\n",
    "# for i in range(len(col)):\n",
    "#     content = col[i].split('(')    \n",
    "#     col_name.append(content[0])\n",
    "#     col_desc.append(content[1][:-1])\n",
    "\n",
    "# data_desc = pd.DataFrame()\n",
    "# data_desc['col_name'] = col_name\n",
    "# data_desc['col_desc'] = col_desc\n",
    "\n",
    "# data_desc.to_csv('data/data_description.csv', index=False)"
   ]
  },
  {
   "cell_type": "code",
   "execution_count": 17,
   "metadata": {},
   "outputs": [
    {
     "name": "stderr",
     "output_type": "stream",
     "text": [
      "b'Skipping line 80: expected 29 fields, saw 31\\nSkipping line 82: expected 29 fields, saw 30\\nSkipping line 241: expected 29 fields, saw 30\\nSkipping line 567: expected 29 fields, saw 32\\nSkipping line 774: expected 29 fields, saw 30\\nSkipping line 901: expected 29 fields, saw 30\\nSkipping line 920: expected 29 fields, saw 32\\nSkipping line 1020: expected 29 fields, saw 30\\nSkipping line 1021: expected 29 fields, saw 30\\nSkipping line 1070: expected 29 fields, saw 30\\nSkipping line 1086: expected 29 fields, saw 30\\nSkipping line 1255: expected 29 fields, saw 31\\nSkipping line 1256: expected 29 fields, saw 31\\n'\n"
     ]
    }
   ],
   "source": [
    "df_21Q1_1 = pd.read_csv('data/2021Q1/A_lvr_land_A.csv', error_bad_lines=False)\n",
    "df_21Q1_2 = pd.read_csv('data/2021Q1/A_lvr_land_B.csv', error_bad_lines=False)\n",
    "df_21Q1_3 = pd.read_csv('data/2021Q1/A_lvr_land_C.csv', error_bad_lines=False)"
   ]
  },
  {
   "cell_type": "code",
   "execution_count": 18,
   "metadata": {},
   "outputs": [
    {
     "name": "stdout",
     "output_type": "stream",
     "text": [
      "(6520, 33)\n",
      "(205, 28)\n",
      "(1327, 29)\n"
     ]
    }
   ],
   "source": [
    "print(df_21Q1_1.shape)\n",
    "print(df_21Q1_2.shape)\n",
    "print(df_21Q1_3.shape)"
   ]
  },
  {
   "cell_type": "markdown",
   "metadata": {},
   "source": [
    "# Data process"
   ]
  },
  {
   "cell_type": "markdown",
   "metadata": {},
   "source": [
    "#### columns names setting"
   ]
  },
  {
   "cell_type": "code",
   "execution_count": 43,
   "metadata": {},
   "outputs": [],
   "source": [
    "col = pd.read_csv('data/column_names.csv')\n",
    "col_names = col['col_name'].tolist()"
   ]
  },
  {
   "cell_type": "code",
   "execution_count": 98,
   "metadata": {},
   "outputs": [],
   "source": [
    "df = pd.read_csv('data/2021Q1/A_lvr_land_A.csv')\n",
    "df = df.iloc[1:, :]\n",
    "df.columns = col_names"
   ]
  },
  {
   "cell_type": "code",
   "execution_count": 99,
   "metadata": {},
   "outputs": [
    {
     "data": {
      "text/html": [
       "<div>\n",
       "<style scoped>\n",
       "    .dataframe tbody tr th:only-of-type {\n",
       "        vertical-align: middle;\n",
       "    }\n",
       "\n",
       "    .dataframe tbody tr th {\n",
       "        vertical-align: top;\n",
       "    }\n",
       "\n",
       "    .dataframe thead th {\n",
       "        text-align: right;\n",
       "    }\n",
       "</style>\n",
       "<table border=\"1\" class=\"dataframe\">\n",
       "  <thead>\n",
       "    <tr style=\"text-align: right;\">\n",
       "      <th></th>\n",
       "      <th>district</th>\n",
       "      <th>transaction_sign</th>\n",
       "      <th>address</th>\n",
       "      <th>land_area</th>\n",
       "      <th>use_zone</th>\n",
       "      <th>non_metropolis_use_district</th>\n",
       "      <th>non_metropolis_use</th>\n",
       "      <th>yyymmdd</th>\n",
       "      <th>transaction_number</th>\n",
       "      <th>floor</th>\n",
       "      <th>...</th>\n",
       "      <th>berth_type</th>\n",
       "      <th>berth_area</th>\n",
       "      <th>berth_price</th>\n",
       "      <th>note</th>\n",
       "      <th>serial_number</th>\n",
       "      <th>main_building_area</th>\n",
       "      <th>ancillary_area</th>\n",
       "      <th>terrace_area</th>\n",
       "      <th>elevator</th>\n",
       "      <th>shift_number</th>\n",
       "    </tr>\n",
       "  </thead>\n",
       "  <tbody>\n",
       "    <tr>\n",
       "      <th>1</th>\n",
       "      <td>文山區</td>\n",
       "      <td>房地(土地+建物)</td>\n",
       "      <td>興隆路二段217巷1~30號</td>\n",
       "      <td>8.65</td>\n",
       "      <td>都市：其他:第三種住宅區。</td>\n",
       "      <td>NaN</td>\n",
       "      <td>NaN</td>\n",
       "      <td>1091029</td>\n",
       "      <td>土地1建物1車位0</td>\n",
       "      <td>五層</td>\n",
       "      <td>...</td>\n",
       "      <td>NaN</td>\n",
       "      <td>0.0</td>\n",
       "      <td>0</td>\n",
       "      <td>陽台外推;其他增建;</td>\n",
       "      <td>RPWOMLKKJIPFFAA87DA</td>\n",
       "      <td>25.66</td>\n",
       "      <td>0.70</td>\n",
       "      <td>5.79</td>\n",
       "      <td>有</td>\n",
       "      <td>NaN</td>\n",
       "    </tr>\n",
       "    <tr>\n",
       "      <th>2</th>\n",
       "      <td>文山區</td>\n",
       "      <td>房地(土地+建物)</td>\n",
       "      <td>和平東路四段65巷77弄1~30號</td>\n",
       "      <td>86.0</td>\n",
       "      <td>都市：其他:第二種住宅區。</td>\n",
       "      <td>NaN</td>\n",
       "      <td>NaN</td>\n",
       "      <td>1091105</td>\n",
       "      <td>土地1建物1車位0</td>\n",
       "      <td>全</td>\n",
       "      <td>...</td>\n",
       "      <td>NaN</td>\n",
       "      <td>0.0</td>\n",
       "      <td>0</td>\n",
       "      <td>陽台外推;其他增建;</td>\n",
       "      <td>RPVPMLSKJIPFFAA68DA</td>\n",
       "      <td>133.66</td>\n",
       "      <td>35.95</td>\n",
       "      <td>6.11</td>\n",
       "      <td>無</td>\n",
       "      <td>NaN</td>\n",
       "    </tr>\n",
       "    <tr>\n",
       "      <th>3</th>\n",
       "      <td>文山區</td>\n",
       "      <td>建物</td>\n",
       "      <td>羅斯福路六段26巷1~30號</td>\n",
       "      <td>0.0</td>\n",
       "      <td>NaN</td>\n",
       "      <td>NaN</td>\n",
       "      <td>NaN</td>\n",
       "      <td>1091102</td>\n",
       "      <td>土地0建物1車位0</td>\n",
       "      <td>一層</td>\n",
       "      <td>...</td>\n",
       "      <td>NaN</td>\n",
       "      <td>0.0</td>\n",
       "      <td>0</td>\n",
       "      <td>NaN</td>\n",
       "      <td>RPSOMLOLJIPFFAA97DA</td>\n",
       "      <td>79.57</td>\n",
       "      <td>0.00</td>\n",
       "      <td>0.00</td>\n",
       "      <td>無</td>\n",
       "      <td>NaN</td>\n",
       "    </tr>\n",
       "  </tbody>\n",
       "</table>\n",
       "<p>3 rows × 33 columns</p>\n",
       "</div>"
      ],
      "text/plain": [
       "  district transaction_sign            address land_area       use_zone  \\\n",
       "1      文山區        房地(土地+建物)     興隆路二段217巷1~30號      8.65  都市：其他:第三種住宅區。   \n",
       "2      文山區        房地(土地+建物)  和平東路四段65巷77弄1~30號      86.0  都市：其他:第二種住宅區。   \n",
       "3      文山區               建物     羅斯福路六段26巷1~30號       0.0            NaN   \n",
       "\n",
       "  non_metropolis_use_district non_metropolis_use  yyymmdd transaction_number  \\\n",
       "1                         NaN                NaN  1091029          土地1建物1車位0   \n",
       "2                         NaN                NaN  1091105          土地1建物1車位0   \n",
       "3                         NaN                NaN  1091102          土地0建物1車位0   \n",
       "\n",
       "  floor  ... berth_type berth_area berth_price        note  \\\n",
       "1    五層  ...        NaN        0.0           0  陽台外推;其他增建;   \n",
       "2     全  ...        NaN        0.0           0  陽台外推;其他增建;   \n",
       "3    一層  ...        NaN        0.0           0         NaN   \n",
       "\n",
       "         serial_number main_building_area ancillary_area terrace_area  \\\n",
       "1  RPWOMLKKJIPFFAA87DA              25.66           0.70         5.79   \n",
       "2  RPVPMLSKJIPFFAA68DA             133.66          35.95         6.11   \n",
       "3  RPSOMLOLJIPFFAA97DA              79.57           0.00         0.00   \n",
       "\n",
       "  elevator shift_number  \n",
       "1        有          NaN  \n",
       "2        無          NaN  \n",
       "3        無          NaN  \n",
       "\n",
       "[3 rows x 33 columns]"
      ]
     },
     "execution_count": 99,
     "metadata": {},
     "output_type": "execute_result"
    }
   ],
   "source": [
    "df.head(3)"
   ]
  },
  {
   "cell_type": "code",
   "execution_count": 100,
   "metadata": {},
   "outputs": [
    {
     "data": {
      "text/plain": [
       "district                        object\n",
       "transaction_sign                object\n",
       "address                         object\n",
       "land_area                       object\n",
       "use_zone                        object\n",
       "non_metropolis_use_district     object\n",
       "non_metropolis_use              object\n",
       "yyymmdd                         object\n",
       "transaction_number              object\n",
       "floor                           object\n",
       "total_floor                     object\n",
       "building_state                  object\n",
       "main_use                        object\n",
       "building_materials              object\n",
       "building_yyymmdd                object\n",
       "building_area                   object\n",
       "room                            object\n",
       "hall                            object\n",
       "health                          object\n",
       "compartment                     object\n",
       "manage                          object\n",
       "total_price                     object\n",
       "unit_price                      object\n",
       "berth_type                      object\n",
       "berth_area                      object\n",
       "berth_price                     object\n",
       "note                            object\n",
       "serial_number                   object\n",
       "main_building_area             float64\n",
       "ancillary_area                 float64\n",
       "terrace_area                   float64\n",
       "elevator                        object\n",
       "shift_number                   float64\n",
       "dtype: object"
      ]
     },
     "execution_count": 100,
     "metadata": {},
     "output_type": "execute_result"
    }
   ],
   "source": [
    "df.dtypes"
   ]
  },
  {
   "cell_type": "markdown",
   "metadata": {},
   "source": [
    "#### use zone"
   ]
  },
  {
   "cell_type": "code",
   "execution_count": 82,
   "metadata": {},
   "outputs": [
    {
     "data": {
      "text/html": [
       "<div>\n",
       "<style scoped>\n",
       "    .dataframe tbody tr th:only-of-type {\n",
       "        vertical-align: middle;\n",
       "    }\n",
       "\n",
       "    .dataframe tbody tr th {\n",
       "        vertical-align: top;\n",
       "    }\n",
       "\n",
       "    .dataframe thead th {\n",
       "        text-align: right;\n",
       "    }\n",
       "</style>\n",
       "<table border=\"1\" class=\"dataframe\">\n",
       "  <thead>\n",
       "    <tr style=\"text-align: right;\">\n",
       "      <th></th>\n",
       "      <th>use_zone</th>\n",
       "      <th>count</th>\n",
       "    </tr>\n",
       "  </thead>\n",
       "  <tbody>\n",
       "    <tr>\n",
       "      <th>139</th>\n",
       "      <td>都市：其他:第三種住宅區。</td>\n",
       "      <td>2822</td>\n",
       "    </tr>\n",
       "    <tr>\n",
       "      <th>147</th>\n",
       "      <td>都市：其他:第三種商業區。</td>\n",
       "      <td>376</td>\n",
       "    </tr>\n",
       "    <tr>\n",
       "      <th>242</th>\n",
       "      <td>都市：其他:第肆種商業區(依都市計畫說明書圖規定辦理，始得作第肆種商業區使用)(原屬第參種商...</td>\n",
       "      <td>258</td>\n",
       "    </tr>\n",
       "    <tr>\n",
       "      <th>155</th>\n",
       "      <td>都市：其他:第二種住宅區。</td>\n",
       "      <td>252</td>\n",
       "    </tr>\n",
       "    <tr>\n",
       "      <th>220</th>\n",
       "      <td>都市：其他:第四種住宅區。</td>\n",
       "      <td>198</td>\n",
       "    </tr>\n",
       "  </tbody>\n",
       "</table>\n",
       "</div>"
      ],
      "text/plain": [
       "                                              use_zone  count\n",
       "139                                      都市：其他:第三種住宅區。   2822\n",
       "147                                      都市：其他:第三種商業區。    376\n",
       "242  都市：其他:第肆種商業區(依都市計畫說明書圖規定辦理，始得作第肆種商業區使用)(原屬第參種商...    258\n",
       "155                                      都市：其他:第二種住宅區。    252\n",
       "220                                      都市：其他:第四種住宅區。    198"
      ]
     },
     "execution_count": 82,
     "metadata": {},
     "output_type": "execute_result"
    }
   ],
   "source": [
    "df.groupby('use_zone').size().rename('count').reset_index().sort_values(by='count', ascending=False).head()"
   ]
  },
  {
   "cell_type": "code",
   "execution_count": 101,
   "metadata": {},
   "outputs": [],
   "source": [
    "df['residential_zone'] = np.where((df['use_zone'].str.find('住宅區')>=0)|(df['use_zone'].str.find('住宅用地')>=0), 1, 0)\n",
    "df['business_zone'] = np.where(df['use_zone'].str.find('商業區')>=0, 1, 0)"
   ]
  },
  {
   "cell_type": "markdown",
   "metadata": {},
   "source": [
    "#### transaction time"
   ]
  },
  {
   "cell_type": "code",
   "execution_count": 121,
   "metadata": {},
   "outputs": [],
   "source": [
    "df['yyyy'] = df['yyymmdd'].str[:-4].astype(int)+1911\n",
    "df['mm'] = df['yyymmdd'].str[-4:-2]"
   ]
  },
  {
   "cell_type": "markdown",
   "metadata": {},
   "source": [
    "#### transaction number"
   ]
  },
  {
   "cell_type": "code",
   "execution_count": 150,
   "metadata": {},
   "outputs": [
    {
     "name": "stderr",
     "output_type": "stream",
     "text": [
      "/usr/local/lib/python3.7/site-packages/ipykernel_launcher.py:6: SettingWithCopyWarning: \n",
      "A value is trying to be set on a copy of a slice from a DataFrame\n",
      "\n",
      "See the caveats in the documentation: https://pandas.pydata.org/pandas-docs/stable/user_guide/indexing.html#returning-a-view-versus-a-copy\n",
      "  \n",
      "/usr/local/lib/python3.7/site-packages/ipykernel_launcher.py:7: SettingWithCopyWarning: \n",
      "A value is trying to be set on a copy of a slice from a DataFrame\n",
      "\n",
      "See the caveats in the documentation: https://pandas.pydata.org/pandas-docs/stable/user_guide/indexing.html#returning-a-view-versus-a-copy\n",
      "  import sys\n",
      "/usr/local/lib/python3.7/site-packages/ipykernel_launcher.py:8: SettingWithCopyWarning: \n",
      "A value is trying to be set on a copy of a slice from a DataFrame\n",
      "\n",
      "See the caveats in the documentation: https://pandas.pydata.org/pandas-docs/stable/user_guide/indexing.html#returning-a-view-versus-a-copy\n",
      "  \n"
     ]
    }
   ],
   "source": [
    "df['land'] = 0\n",
    "df['building'] = 0\n",
    "df['berth'] = 0\n",
    "\n",
    "for i in range(1, len(df)+1):\n",
    "    df['land'][i] = re.split(r'(\\d+)', df['transaction_number'][i])[1]\n",
    "    df['building'][i] = re.split(r'(\\d+)', df['transaction_number'][i])[3]\n",
    "    df['berth'][i] = re.split(r'(\\d+)', df['transaction_number'][i])[5]"
   ]
  },
  {
   "cell_type": "markdown",
   "metadata": {},
   "source": [
    "#### floor"
   ]
  },
  {
   "cell_type": "markdown",
   "metadata": {},
   "source": [
    "convert chinese to Arabic digit"
   ]
  },
  {
   "cell_type": "code",
   "execution_count": 243,
   "metadata": {},
   "outputs": [
    {
     "name": "stderr",
     "output_type": "stream",
     "text": [
      "/usr/local/lib/python3.7/site-packages/ipykernel_launcher.py:13: SettingWithCopyWarning: \n",
      "A value is trying to be set on a copy of a slice from a DataFrame\n",
      "\n",
      "See the caveats in the documentation: https://pandas.pydata.org/pandas-docs/stable/user_guide/indexing.html#returning-a-view-versus-a-copy\n",
      "  del sys.path[0]\n",
      "/usr/local/lib/python3.7/site-packages/ipykernel_launcher.py:7: SettingWithCopyWarning: \n",
      "A value is trying to be set on a copy of a slice from a DataFrame\n",
      "\n",
      "See the caveats in the documentation: https://pandas.pydata.org/pandas-docs/stable/user_guide/indexing.html#returning-a-view-versus-a-copy\n",
      "  import sys\n",
      "/usr/local/lib/python3.7/site-packages/ipykernel_launcher.py:11: SettingWithCopyWarning: \n",
      "A value is trying to be set on a copy of a slice from a DataFrame\n",
      "\n",
      "See the caveats in the documentation: https://pandas.pydata.org/pandas-docs/stable/user_guide/indexing.html#returning-a-view-versus-a-copy\n",
      "  # This is added back by InteractiveShellApp.init_path()\n",
      "/usr/local/lib/python3.7/site-packages/ipykernel_launcher.py:18: SettingWithCopyWarning: \n",
      "A value is trying to be set on a copy of a slice from a DataFrame\n",
      "\n",
      "See the caveats in the documentation: https://pandas.pydata.org/pandas-docs/stable/user_guide/indexing.html#returning-a-view-versus-a-copy\n",
      "/usr/local/lib/python3.7/site-packages/ipykernel_launcher.py:16: SettingWithCopyWarning: \n",
      "A value is trying to be set on a copy of a slice from a DataFrame\n",
      "\n",
      "See the caveats in the documentation: https://pandas.pydata.org/pandas-docs/stable/user_guide/indexing.html#returning-a-view-versus-a-copy\n",
      "  app.launch_new_instance()\n"
     ]
    }
   ],
   "source": [
    "df['total_floor_ch'] = df['total_floor_ch'].str[:-1]\n",
    "df['total_floor'] = 0\n",
    "\n",
    "for i in range(1, len(df)+1):\n",
    "    num = re.split(r'(\\d+)', str(df['total_floor_ch'][i]).replace('十', '10'))\n",
    "    num = list(map(lambda e: e.replace('一', '1').replace('二', '2').replace('三', '3').replace('四', '4').replace('五', '5')\\\n",
    "                  .replace('六', '6').replace('七', '7').replace('八', '8').replace('九', '9'), num))\n",
    "    \n",
    "    if (len(num) == 1) & (num[0] != 'nan'):\n",
    "        df['total_floor'][i] = num[0]\n",
    "    elif len(num) == 3:\n",
    "        if num[0] == '':\n",
    "            if num[2] == '':\n",
    "                df['total_floor'][i] = 10\n",
    "            else:\n",
    "                df['total_floor'][i] = int(num[1])+int(num[2])\n",
    "        else:\n",
    "            if num[2] == '':\n",
    "                df['total_floor'][i] = int(num[0])*int(num[1])\n",
    "            else:\n",
    "                df['total_floor'][i] = int(num[0])*int(num[1])+int(num[2])"
   ]
  },
  {
   "cell_type": "code",
   "execution_count": null,
   "metadata": {},
   "outputs": [],
   "source": []
  }
 ],
 "metadata": {
  "kernelspec": {
   "display_name": "Python 3",
   "language": "python",
   "name": "python3"
  },
  "language_info": {
   "codemirror_mode": {
    "name": "ipython",
    "version": 3
   },
   "file_extension": ".py",
   "mimetype": "text/x-python",
   "name": "python",
   "nbconvert_exporter": "python",
   "pygments_lexer": "ipython3",
   "version": "3.7.7"
  },
  "toc-autonumbering": true
 },
 "nbformat": 4,
 "nbformat_minor": 4
}
