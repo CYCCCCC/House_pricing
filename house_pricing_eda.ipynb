{
 "cells": [
  {
   "cell_type": "markdown",
   "metadata": {},
   "source": [
    "# Import"
   ]
  },
  {
   "cell_type": "markdown",
   "metadata": {},
   "source": [
    "## Packages"
   ]
  },
  {
   "cell_type": "code",
   "execution_count": 1,
   "metadata": {},
   "outputs": [],
   "source": [
    "import numpy as np\n",
    "import pandas as pd\n",
    "\n",
    "import re"
   ]
  },
  {
   "cell_type": "markdown",
   "metadata": {},
   "source": [
    "## Data"
   ]
  },
  {
   "cell_type": "code",
   "execution_count": 17,
   "metadata": {},
   "outputs": [],
   "source": [
    "# columns definition\n",
    "\n",
    "# col = 'district(鄉鎮市區)、rps01(交易標的)、rps02(土地區段位置建物區段門牌)、rps03(土地移轉總面積平方公尺)、rps04(都市土地使用分區)、rps05(非都市土地使用分區)、rps06(非都市土地使用編定)、rps07(交易年月日)、rps08(交易筆棟數)、rps09(移轉層次)、rps10(總樓層數)、rps11(建物型態)、rps12(主要用途)、rps13(主要建材)、rps14(建築完成年月)、rps15(建物移轉總面積平方公尺)、rps16(建物現況格局-房)、rps17(建物現況格局-廳)、rps18(建物現況格局-衛)、rps19(建物現況格局-隔間)、rps20(有無管理組織)、rps21(總價元)、rps22(單價元平方公尺)、rps23(車位類別)、rps24(車位移轉總面積平方公尺)、rps25(車位總價元)、rps26(備註)、rps27(編號)、rps28(主建物面積)、rps29(附屬建物面積)、rps30(陽台面積)、rps31(電梯)'\n",
    "\n",
    "# col_name = []\n",
    "# col_desc = []\n",
    "# col = col.split('、')\n",
    "\n",
    "# for i in range(len(col)):\n",
    "#     content = col[i].split('(')    \n",
    "#     col_name.append(content[0])\n",
    "#     col_desc.append(content[1][:-1])\n",
    "\n",
    "# data_desc = pd.DataFrame()\n",
    "# data_desc['col_name'] = col_name\n",
    "# data_desc['col_desc'] = col_desc\n",
    "\n",
    "# data_desc.to_csv('data/data_description.csv', index=False)"
   ]
  },
  {
   "cell_type": "code",
   "execution_count": 17,
   "metadata": {},
   "outputs": [
    {
     "name": "stderr",
     "output_type": "stream",
     "text": [
      "b'Skipping line 80: expected 29 fields, saw 31\\nSkipping line 82: expected 29 fields, saw 30\\nSkipping line 241: expected 29 fields, saw 30\\nSkipping line 567: expected 29 fields, saw 32\\nSkipping line 774: expected 29 fields, saw 30\\nSkipping line 901: expected 29 fields, saw 30\\nSkipping line 920: expected 29 fields, saw 32\\nSkipping line 1020: expected 29 fields, saw 30\\nSkipping line 1021: expected 29 fields, saw 30\\nSkipping line 1070: expected 29 fields, saw 30\\nSkipping line 1086: expected 29 fields, saw 30\\nSkipping line 1255: expected 29 fields, saw 31\\nSkipping line 1256: expected 29 fields, saw 31\\n'\n"
     ]
    }
   ],
   "source": [
    "df_21Q1_1 = pd.read_csv('data/2021Q1/A_lvr_land_A.csv', error_bad_lines=False)\n",
    "df_21Q1_2 = pd.read_csv('data/2021Q1/A_lvr_land_B.csv', error_bad_lines=False)\n",
    "df_21Q1_3 = pd.read_csv('data/2021Q1/A_lvr_land_C.csv', error_bad_lines=False)"
   ]
  },
  {
   "cell_type": "code",
   "execution_count": 18,
   "metadata": {},
   "outputs": [
    {
     "name": "stdout",
     "output_type": "stream",
     "text": [
      "(6520, 33)\n",
      "(205, 28)\n",
      "(1327, 29)\n"
     ]
    }
   ],
   "source": [
    "print(df_21Q1_1.shape)\n",
    "print(df_21Q1_2.shape)\n",
    "print(df_21Q1_3.shape)"
   ]
  },
  {
   "cell_type": "markdown",
   "metadata": {},
   "source": [
    "# Data process"
   ]
  },
  {
   "cell_type": "markdown",
   "metadata": {},
   "source": [
    "## columns names setting"
   ]
  },
  {
   "cell_type": "code",
   "execution_count": 323,
   "metadata": {},
   "outputs": [],
   "source": [
    "col = pd.read_csv('data/temp_tables/column_names.csv')\n",
    "col_names = col['col_name'].tolist()"
   ]
  },
  {
   "cell_type": "code",
   "execution_count": 339,
   "metadata": {},
   "outputs": [],
   "source": [
    "df = pd.read_csv('data/2021Q1/A_lvr_land_A.csv')\n",
    "\n",
    "# There're two rows about header\n",
    "df = df.iloc[1:, :]\n",
    "df.columns = col_names\n",
    "\n",
    "# Need to reset index because exclude one row \n",
    "df = df.reset_index(drop=True)"
   ]
  },
  {
   "cell_type": "code",
   "execution_count": 53,
   "metadata": {},
   "outputs": [
    {
     "data": {
      "text/plain": [
       "district                        object\n",
       "transaction_sign                object\n",
       "address                         object\n",
       "land_area                       object\n",
       "use_zone                        object\n",
       "non_metropolis_use_district     object\n",
       "non_metropolis_use              object\n",
       "yyymmdd                         object\n",
       "transaction_number              object\n",
       "floor_ch                        object\n",
       "total_floor_ch                  object\n",
       "building_state                  object\n",
       "main_use                        object\n",
       "building_materials              object\n",
       "building_yyymmdd                object\n",
       "building_area                   object\n",
       "room                            object\n",
       "hall                            object\n",
       "health                          object\n",
       "compartment                     object\n",
       "manage                          object\n",
       "total_price                     object\n",
       "unit_price                      object\n",
       "berth_type                      object\n",
       "berth_area                      object\n",
       "berth_price                     object\n",
       "note                            object\n",
       "serial_number                   object\n",
       "main_building_area             float64\n",
       "ancillary_area                 float64\n",
       "terrace_area                   float64\n",
       "elevator                        object\n",
       "shift_number                   float64\n",
       "dtype: object"
      ]
     },
     "execution_count": 53,
     "metadata": {},
     "output_type": "execute_result"
    }
   ],
   "source": [
    "df.dtypes"
   ]
  },
  {
   "cell_type": "markdown",
   "metadata": {},
   "source": [
    "## District"
   ]
  },
  {
   "cell_type": "code",
   "execution_count": 343,
   "metadata": {},
   "outputs": [],
   "source": [
    "district = pd.read_csv('data/temp_tables/district.csv')"
   ]
  },
  {
   "cell_type": "code",
   "execution_count": 344,
   "metadata": {},
   "outputs": [],
   "source": [
    "df = df.merge(district, how='left', on='district')"
   ]
  },
  {
   "cell_type": "markdown",
   "metadata": {},
   "source": [
    "## use zone"
   ]
  },
  {
   "cell_type": "code",
   "execution_count": 345,
   "metadata": {},
   "outputs": [
    {
     "data": {
      "text/html": [
       "<div>\n",
       "<style scoped>\n",
       "    .dataframe tbody tr th:only-of-type {\n",
       "        vertical-align: middle;\n",
       "    }\n",
       "\n",
       "    .dataframe tbody tr th {\n",
       "        vertical-align: top;\n",
       "    }\n",
       "\n",
       "    .dataframe thead th {\n",
       "        text-align: right;\n",
       "    }\n",
       "</style>\n",
       "<table border=\"1\" class=\"dataframe\">\n",
       "  <thead>\n",
       "    <tr style=\"text-align: right;\">\n",
       "      <th></th>\n",
       "      <th>use_zone</th>\n",
       "      <th>count</th>\n",
       "    </tr>\n",
       "  </thead>\n",
       "  <tbody>\n",
       "    <tr>\n",
       "      <th>139</th>\n",
       "      <td>都市：其他:第三種住宅區。</td>\n",
       "      <td>2822</td>\n",
       "    </tr>\n",
       "    <tr>\n",
       "      <th>147</th>\n",
       "      <td>都市：其他:第三種商業區。</td>\n",
       "      <td>376</td>\n",
       "    </tr>\n",
       "    <tr>\n",
       "      <th>242</th>\n",
       "      <td>都市：其他:第肆種商業區(依都市計畫說明書圖規定辦理，始得作第肆種商業區使用)(原屬第參種商...</td>\n",
       "      <td>258</td>\n",
       "    </tr>\n",
       "    <tr>\n",
       "      <th>155</th>\n",
       "      <td>都市：其他:第二種住宅區。</td>\n",
       "      <td>252</td>\n",
       "    </tr>\n",
       "    <tr>\n",
       "      <th>220</th>\n",
       "      <td>都市：其他:第四種住宅區。</td>\n",
       "      <td>198</td>\n",
       "    </tr>\n",
       "  </tbody>\n",
       "</table>\n",
       "</div>"
      ],
      "text/plain": [
       "                                              use_zone  count\n",
       "139                                      都市：其他:第三種住宅區。   2822\n",
       "147                                      都市：其他:第三種商業區。    376\n",
       "242  都市：其他:第肆種商業區(依都市計畫說明書圖規定辦理，始得作第肆種商業區使用)(原屬第參種商...    258\n",
       "155                                      都市：其他:第二種住宅區。    252\n",
       "220                                      都市：其他:第四種住宅區。    198"
      ]
     },
     "execution_count": 345,
     "metadata": {},
     "output_type": "execute_result"
    }
   ],
   "source": [
    "df.groupby('use_zone').size().rename('count').reset_index().sort_values(by='count', ascending=False).head()"
   ]
  },
  {
   "cell_type": "code",
   "execution_count": 346,
   "metadata": {},
   "outputs": [],
   "source": [
    "df['residential_zone'] = np.where((df['use_zone'].str.find('住宅區')>=0)|(df['use_zone'].str.find('住宅用地')>=0), 1, 0)\n",
    "df['business_zone'] = np.where(df['use_zone'].str.find('商業區')>=0, 1, 0)"
   ]
  },
  {
   "cell_type": "markdown",
   "metadata": {},
   "source": [
    "## time"
   ]
  },
  {
   "cell_type": "code",
   "execution_count": 347,
   "metadata": {},
   "outputs": [],
   "source": [
    "df['buy_yyyy'] = df['yyymmdd'].str[:-4].astype(int)+1911\n",
    "df['buy_mm'] = df['yyymmdd'].str[-4:-2]"
   ]
  },
  {
   "cell_type": "markdown",
   "metadata": {},
   "source": [
    "There're missing values in build time"
   ]
  },
  {
   "cell_type": "code",
   "execution_count": 348,
   "metadata": {},
   "outputs": [],
   "source": [
    "df['build_yyyy'] = df['building_yyymmdd'].str[:-4]\n",
    "df['build_yyyy'] = pd.to_numeric(df['build_yyyy'], errors='coerce')\n",
    "df['build_yyyy'] = df['build_yyyy']+1911\n",
    "\n",
    "df['build_mm'] = df['building_yyymmdd'].str[-4:-2]\n",
    "df['build_mm'] = pd.to_numeric(df['build_mm'], errors='coerce')"
   ]
  },
  {
   "cell_type": "code",
   "execution_count": 349,
   "metadata": {},
   "outputs": [
    {
     "data": {
      "text/html": [
       "<div>\n",
       "<style scoped>\n",
       "    .dataframe tbody tr th:only-of-type {\n",
       "        vertical-align: middle;\n",
       "    }\n",
       "\n",
       "    .dataframe tbody tr th {\n",
       "        vertical-align: top;\n",
       "    }\n",
       "\n",
       "    .dataframe thead th {\n",
       "        text-align: right;\n",
       "    }\n",
       "</style>\n",
       "<table border=\"1\" class=\"dataframe\">\n",
       "  <thead>\n",
       "    <tr style=\"text-align: right;\">\n",
       "      <th></th>\n",
       "      <th>building_yyymmdd</th>\n",
       "      <th>build_yyyy</th>\n",
       "      <th>build_mm</th>\n",
       "    </tr>\n",
       "  </thead>\n",
       "  <tbody>\n",
       "    <tr>\n",
       "      <th>0</th>\n",
       "      <td>0850715</td>\n",
       "      <td>1996.0</td>\n",
       "      <td>7.0</td>\n",
       "    </tr>\n",
       "    <tr>\n",
       "      <th>1</th>\n",
       "      <td>0760413</td>\n",
       "      <td>1987.0</td>\n",
       "      <td>4.0</td>\n",
       "    </tr>\n",
       "    <tr>\n",
       "      <th>2</th>\n",
       "      <td>0570614</td>\n",
       "      <td>1968.0</td>\n",
       "      <td>6.0</td>\n",
       "    </tr>\n",
       "    <tr>\n",
       "      <th>3</th>\n",
       "      <td>NaN</td>\n",
       "      <td>NaN</td>\n",
       "      <td>NaN</td>\n",
       "    </tr>\n",
       "    <tr>\n",
       "      <th>4</th>\n",
       "      <td>1090825</td>\n",
       "      <td>2020.0</td>\n",
       "      <td>8.0</td>\n",
       "    </tr>\n",
       "    <tr>\n",
       "      <th>...</th>\n",
       "      <td>...</td>\n",
       "      <td>...</td>\n",
       "      <td>...</td>\n",
       "    </tr>\n",
       "    <tr>\n",
       "      <th>6514</th>\n",
       "      <td>0870213</td>\n",
       "      <td>1998.0</td>\n",
       "      <td>2.0</td>\n",
       "    </tr>\n",
       "    <tr>\n",
       "      <th>6515</th>\n",
       "      <td>NaN</td>\n",
       "      <td>NaN</td>\n",
       "      <td>NaN</td>\n",
       "    </tr>\n",
       "    <tr>\n",
       "      <th>6516</th>\n",
       "      <td>NaN</td>\n",
       "      <td>NaN</td>\n",
       "      <td>NaN</td>\n",
       "    </tr>\n",
       "    <tr>\n",
       "      <th>6517</th>\n",
       "      <td>NaN</td>\n",
       "      <td>NaN</td>\n",
       "      <td>NaN</td>\n",
       "    </tr>\n",
       "    <tr>\n",
       "      <th>6518</th>\n",
       "      <td>1090710</td>\n",
       "      <td>2020.0</td>\n",
       "      <td>7.0</td>\n",
       "    </tr>\n",
       "  </tbody>\n",
       "</table>\n",
       "<p>6519 rows × 3 columns</p>\n",
       "</div>"
      ],
      "text/plain": [
       "     building_yyymmdd  build_yyyy  build_mm\n",
       "0             0850715      1996.0       7.0\n",
       "1             0760413      1987.0       4.0\n",
       "2             0570614      1968.0       6.0\n",
       "3                 NaN         NaN       NaN\n",
       "4             1090825      2020.0       8.0\n",
       "...               ...         ...       ...\n",
       "6514          0870213      1998.0       2.0\n",
       "6515              NaN         NaN       NaN\n",
       "6516              NaN         NaN       NaN\n",
       "6517              NaN         NaN       NaN\n",
       "6518          1090710      2020.0       7.0\n",
       "\n",
       "[6519 rows x 3 columns]"
      ]
     },
     "execution_count": 349,
     "metadata": {},
     "output_type": "execute_result"
    }
   ],
   "source": [
    "df[['building_yyymmdd', 'build_yyyy', 'build_mm']]"
   ]
  },
  {
   "cell_type": "markdown",
   "metadata": {},
   "source": [
    "## transaction number"
   ]
  },
  {
   "cell_type": "code",
   "execution_count": 350,
   "metadata": {},
   "outputs": [
    {
     "name": "stderr",
     "output_type": "stream",
     "text": [
      "/usr/local/lib/python3.7/site-packages/ipykernel_launcher.py:6: SettingWithCopyWarning: \n",
      "A value is trying to be set on a copy of a slice from a DataFrame\n",
      "\n",
      "See the caveats in the documentation: https://pandas.pydata.org/pandas-docs/stable/user_guide/indexing.html#returning-a-view-versus-a-copy\n",
      "  \n",
      "/usr/local/lib/python3.7/site-packages/ipykernel_launcher.py:7: SettingWithCopyWarning: \n",
      "A value is trying to be set on a copy of a slice from a DataFrame\n",
      "\n",
      "See the caveats in the documentation: https://pandas.pydata.org/pandas-docs/stable/user_guide/indexing.html#returning-a-view-versus-a-copy\n",
      "  import sys\n",
      "/usr/local/lib/python3.7/site-packages/ipykernel_launcher.py:8: SettingWithCopyWarning: \n",
      "A value is trying to be set on a copy of a slice from a DataFrame\n",
      "\n",
      "See the caveats in the documentation: https://pandas.pydata.org/pandas-docs/stable/user_guide/indexing.html#returning-a-view-versus-a-copy\n",
      "  \n"
     ]
    }
   ],
   "source": [
    "df['land'] = 0\n",
    "df['building'] = 0\n",
    "df['berth'] = 0\n",
    "\n",
    "for i in range(0, len(df)):\n",
    "    df['land'][i] = re.split(r'(\\d+)', df['transaction_number'][i])[1]\n",
    "    df['building'][i] = re.split(r'(\\d+)', df['transaction_number'][i])[3]\n",
    "    df['berth'][i] = re.split(r'(\\d+)', df['transaction_number'][i])[5]"
   ]
  },
  {
   "cell_type": "markdown",
   "metadata": {},
   "source": [
    "## floor"
   ]
  },
  {
   "cell_type": "markdown",
   "metadata": {},
   "source": [
    "convert chinese to Arabic digit"
   ]
  },
  {
   "cell_type": "markdown",
   "metadata": {},
   "source": [
    "### total floor"
   ]
  },
  {
   "cell_type": "code",
   "execution_count": 351,
   "metadata": {},
   "outputs": [
    {
     "name": "stderr",
     "output_type": "stream",
     "text": [
      "/usr/local/lib/python3.7/site-packages/ipykernel_launcher.py:16: SettingWithCopyWarning: \n",
      "A value is trying to be set on a copy of a slice from a DataFrame\n",
      "\n",
      "See the caveats in the documentation: https://pandas.pydata.org/pandas-docs/stable/user_guide/indexing.html#returning-a-view-versus-a-copy\n",
      "  app.launch_new_instance()\n",
      "/usr/local/lib/python3.7/site-packages/ipykernel_launcher.py:10: SettingWithCopyWarning: \n",
      "A value is trying to be set on a copy of a slice from a DataFrame\n",
      "\n",
      "See the caveats in the documentation: https://pandas.pydata.org/pandas-docs/stable/user_guide/indexing.html#returning-a-view-versus-a-copy\n",
      "  # Remove the CWD from sys.path while we load stuff.\n",
      "/usr/local/lib/python3.7/site-packages/ipykernel_launcher.py:14: SettingWithCopyWarning: \n",
      "A value is trying to be set on a copy of a slice from a DataFrame\n",
      "\n",
      "See the caveats in the documentation: https://pandas.pydata.org/pandas-docs/stable/user_guide/indexing.html#returning-a-view-versus-a-copy\n",
      "  \n",
      "/usr/local/lib/python3.7/site-packages/ipykernel_launcher.py:21: SettingWithCopyWarning: \n",
      "A value is trying to be set on a copy of a slice from a DataFrame\n",
      "\n",
      "See the caveats in the documentation: https://pandas.pydata.org/pandas-docs/stable/user_guide/indexing.html#returning-a-view-versus-a-copy\n",
      "/usr/local/lib/python3.7/site-packages/ipykernel_launcher.py:19: SettingWithCopyWarning: \n",
      "A value is trying to be set on a copy of a slice from a DataFrame\n",
      "\n",
      "See the caveats in the documentation: https://pandas.pydata.org/pandas-docs/stable/user_guide/indexing.html#returning-a-view-versus-a-copy\n"
     ]
    }
   ],
   "source": [
    "df['total_floor_ch'] = df['total_floor_ch'].str[:-1]\n",
    "df['total_floor'] = 0\n",
    "\n",
    "for i in range(0, len(df)):\n",
    "    num = re.split(r'(\\d+)', str(df['total_floor_ch'][i]).replace('十', '10'))\n",
    "    num = list(map(lambda e: e.replace('一', '1').replace('二', '2').replace('三', '3').replace('四', '4').replace('五', '5')\\\n",
    "                  .replace('六', '6').replace('七', '7').replace('八', '8').replace('九', '9'), num))\n",
    "    \n",
    "    if (len(num) == 1) & (num[0] != 'nan'):\n",
    "        df['total_floor'][i] = num[0]\n",
    "    elif len(num) == 3:\n",
    "        if num[0] == '':\n",
    "            if num[2] == '':\n",
    "                df['total_floor'][i] = 10\n",
    "            else:\n",
    "                df['total_floor'][i] = int(num[1])+int(num[2])\n",
    "        else:\n",
    "            if num[2] == '':\n",
    "                df['total_floor'][i] = int(num[0])*int(num[1])\n",
    "            else:\n",
    "                df['total_floor'][i] = int(num[0])*int(num[1])+int(num[2])"
   ]
  },
  {
   "cell_type": "markdown",
   "metadata": {},
   "source": [
    "### shift floor"
   ]
  },
  {
   "cell_type": "code",
   "execution_count": 352,
   "metadata": {},
   "outputs": [],
   "source": [
    "# fill na to prevent error\n",
    "df['floor_ch'] = df['floor_ch'].fillna('')\n",
    "\n",
    "# extract the first element\n",
    "df['floor_ch'] = df['floor_ch'].apply(lambda x: x.split('，')[0][:-1])"
   ]
  },
  {
   "cell_type": "code",
   "execution_count": 353,
   "metadata": {},
   "outputs": [],
   "source": [
    "df['floor_ch'] = np.where((df['floor_ch'].str.contains('地下'))|(df['floor_ch'].str.contains('停車'))|\n",
    "                          (df['floor_ch'].str.contains('避難'))|(df['floor_ch'].str.contains('樓梯')),\n",
    "                          '', df['floor_ch'])"
   ]
  },
  {
   "cell_type": "code",
   "execution_count": 354,
   "metadata": {},
   "outputs": [
    {
     "name": "stderr",
     "output_type": "stream",
     "text": [
      "/usr/local/lib/python3.7/site-packages/ipykernel_launcher.py:9: SettingWithCopyWarning: \n",
      "A value is trying to be set on a copy of a slice from a DataFrame\n",
      "\n",
      "See the caveats in the documentation: https://pandas.pydata.org/pandas-docs/stable/user_guide/indexing.html#returning-a-view-versus-a-copy\n",
      "  if __name__ == '__main__':\n",
      "/usr/local/lib/python3.7/site-packages/pandas/core/indexing.py:670: SettingWithCopyWarning: \n",
      "A value is trying to be set on a copy of a slice from a DataFrame\n",
      "\n",
      "See the caveats in the documentation: https://pandas.pydata.org/pandas-docs/stable/user_guide/indexing.html#returning-a-view-versus-a-copy\n",
      "  self._setitem_with_indexer(indexer, value)\n",
      "/usr/local/lib/python3.7/site-packages/ipykernel_launcher.py:13: SettingWithCopyWarning: \n",
      "A value is trying to be set on a copy of a slice from a DataFrame\n",
      "\n",
      "See the caveats in the documentation: https://pandas.pydata.org/pandas-docs/stable/user_guide/indexing.html#returning-a-view-versus-a-copy\n",
      "  del sys.path[0]\n",
      "/usr/local/lib/python3.7/site-packages/ipykernel_launcher.py:15: SettingWithCopyWarning: \n",
      "A value is trying to be set on a copy of a slice from a DataFrame\n",
      "\n",
      "See the caveats in the documentation: https://pandas.pydata.org/pandas-docs/stable/user_guide/indexing.html#returning-a-view-versus-a-copy\n",
      "  from ipykernel import kernelapp as app\n",
      "/usr/local/lib/python3.7/site-packages/ipykernel_launcher.py:20: SettingWithCopyWarning: \n",
      "A value is trying to be set on a copy of a slice from a DataFrame\n",
      "\n",
      "See the caveats in the documentation: https://pandas.pydata.org/pandas-docs/stable/user_guide/indexing.html#returning-a-view-versus-a-copy\n",
      "/usr/local/lib/python3.7/site-packages/ipykernel_launcher.py:18: SettingWithCopyWarning: \n",
      "A value is trying to be set on a copy of a slice from a DataFrame\n",
      "\n",
      "See the caveats in the documentation: https://pandas.pydata.org/pandas-docs/stable/user_guide/indexing.html#returning-a-view-versus-a-copy\n"
     ]
    }
   ],
   "source": [
    "df['floor'] = 0\n",
    "\n",
    "for i in range(0, len(df)):\n",
    "    num = re.split(r'(\\d+)', str(df['floor_ch'][i]).replace('十', '10'))\n",
    "    num = list(map(lambda e: e.replace('一', '1').replace('二', '2').replace('三', '3').replace('四', '4').replace('五', '5')\\\n",
    "                  .replace('六', '6').replace('七', '7').replace('八', '8').replace('九', '9'), num))\n",
    "    \n",
    "    if (len(num) == 1) & (num[0] != 'nan'):\n",
    "        df['floor'][i] = num[0]\n",
    "    elif len(num) == 3:\n",
    "        if num[0] == '':\n",
    "            if num[2] == '':\n",
    "                df['floor'][i] = 10\n",
    "            else:\n",
    "                df['floor'][i] = int(num[1])+int(num[2])\n",
    "        else:\n",
    "            if num[2] == '':\n",
    "                df['floor'][i] = int(num[0])*int(num[1])\n",
    "            else:\n",
    "                df['floor'][i] = int(num[0])*int(num[1])+int(num[2])"
   ]
  },
  {
   "cell_type": "markdown",
   "metadata": {},
   "source": [
    "## value recode"
   ]
  },
  {
   "cell_type": "markdown",
   "metadata": {},
   "source": [
    "### transaction sign"
   ]
  },
  {
   "cell_type": "code",
   "execution_count": 355,
   "metadata": {},
   "outputs": [],
   "source": [
    "df['transaction_sign'] = np.where(df['transaction_sign']=='房地(土地+建物)+車位', 1, \n",
    "                                 np.where(df['transaction_sign']=='房地(土地+建物)', 2,\n",
    "                                          np.where(df['transaction_sign']=='建物', 3,\n",
    "                                                   np.where(df['transaction_sign']=='車位', 4, 5\n",
    "                                                   ))))"
   ]
  },
  {
   "cell_type": "markdown",
   "metadata": {},
   "source": [
    "### building state"
   ]
  },
  {
   "cell_type": "markdown",
   "metadata": {},
   "source": [
    "1: 住宅大樓(11層含以上有電梯)\n",
    "2: 華廈(10層含以下有電梯)\n",
    "3: 公寓(5樓含以下無電梯)\n",
    "4: 透天厝\n",
    "5: 其他"
   ]
  },
  {
   "cell_type": "code",
   "execution_count": 356,
   "metadata": {},
   "outputs": [
    {
     "data": {
      "text/html": [
       "<div>\n",
       "<style scoped>\n",
       "    .dataframe tbody tr th:only-of-type {\n",
       "        vertical-align: middle;\n",
       "    }\n",
       "\n",
       "    .dataframe tbody tr th {\n",
       "        vertical-align: top;\n",
       "    }\n",
       "\n",
       "    .dataframe thead th {\n",
       "        text-align: right;\n",
       "    }\n",
       "</style>\n",
       "<table border=\"1\" class=\"dataframe\">\n",
       "  <thead>\n",
       "    <tr style=\"text-align: right;\">\n",
       "      <th></th>\n",
       "      <th>building_state</th>\n",
       "      <th>count</th>\n",
       "    </tr>\n",
       "  </thead>\n",
       "  <tbody>\n",
       "    <tr>\n",
       "      <th>0</th>\n",
       "      <td>住宅大樓(11層含以上有電梯)</td>\n",
       "      <td>2544</td>\n",
       "    </tr>\n",
       "    <tr>\n",
       "      <th>4</th>\n",
       "      <td>華廈(10層含以下有電梯)</td>\n",
       "      <td>1609</td>\n",
       "    </tr>\n",
       "    <tr>\n",
       "      <th>1</th>\n",
       "      <td>公寓(5樓含以下無電梯)</td>\n",
       "      <td>1509</td>\n",
       "    </tr>\n",
       "    <tr>\n",
       "      <th>2</th>\n",
       "      <td>其他</td>\n",
       "      <td>680</td>\n",
       "    </tr>\n",
       "    <tr>\n",
       "      <th>6</th>\n",
       "      <td>透天厝</td>\n",
       "      <td>161</td>\n",
       "    </tr>\n",
       "    <tr>\n",
       "      <th>3</th>\n",
       "      <td>廠辦</td>\n",
       "      <td>15</td>\n",
       "    </tr>\n",
       "    <tr>\n",
       "      <th>5</th>\n",
       "      <td>辦公商業大樓</td>\n",
       "      <td>1</td>\n",
       "    </tr>\n",
       "  </tbody>\n",
       "</table>\n",
       "</div>"
      ],
      "text/plain": [
       "    building_state  count\n",
       "0  住宅大樓(11層含以上有電梯)   2544\n",
       "4    華廈(10層含以下有電梯)   1609\n",
       "1     公寓(5樓含以下無電梯)   1509\n",
       "2               其他    680\n",
       "6              透天厝    161\n",
       "3               廠辦     15\n",
       "5           辦公商業大樓      1"
      ]
     },
     "execution_count": 356,
     "metadata": {},
     "output_type": "execute_result"
    }
   ],
   "source": [
    "df.groupby('building_state').size().rename('count').reset_index().sort_values(by='count', ascending=False)"
   ]
  },
  {
   "cell_type": "code",
   "execution_count": 357,
   "metadata": {},
   "outputs": [],
   "source": [
    "df['building_state'] = np.where(df['building_state']=='住宅大樓(11層含以上有電梯)', 1, \n",
    "                               np.where(df['building_state']=='華廈(10層含以下有電梯)', 2,\n",
    "                                       np.where(df['building_state']=='公寓(5樓含以下無電梯)', 3,\n",
    "                                                np.where(df['building_state']=='透天厝', 4, 5))))"
   ]
  },
  {
   "cell_type": "markdown",
   "metadata": {},
   "source": [
    "### use type"
   ]
  },
  {
   "cell_type": "markdown",
   "metadata": {},
   "source": [
    "1: 住家\n",
    "2: 商業\n",
    "3: 停車場\n",
    "4: 無法判斷"
   ]
  },
  {
   "cell_type": "code",
   "execution_count": 121,
   "metadata": {},
   "outputs": [],
   "source": [
    "# use = df.groupby('main_use').size().rename('count').reset_index().sort_values(by='count', ascending=False)\n",
    "# use.to_csv('data/main_use.csv', index=False)"
   ]
  },
  {
   "cell_type": "code",
   "execution_count": 358,
   "metadata": {},
   "outputs": [],
   "source": [
    "use = pd.read_csv('data/temp_tables/main_use.csv')"
   ]
  },
  {
   "cell_type": "code",
   "execution_count": 359,
   "metadata": {},
   "outputs": [],
   "source": [
    "df = df.merge(use, how='left', on='main_use')"
   ]
  },
  {
   "cell_type": "code",
   "execution_count": 360,
   "metadata": {},
   "outputs": [
    {
     "data": {
      "text/html": [
       "<div>\n",
       "<style scoped>\n",
       "    .dataframe tbody tr th:only-of-type {\n",
       "        vertical-align: middle;\n",
       "    }\n",
       "\n",
       "    .dataframe tbody tr th {\n",
       "        vertical-align: top;\n",
       "    }\n",
       "\n",
       "    .dataframe thead th {\n",
       "        text-align: right;\n",
       "    }\n",
       "</style>\n",
       "<table border=\"1\" class=\"dataframe\">\n",
       "  <thead>\n",
       "    <tr style=\"text-align: right;\">\n",
       "      <th></th>\n",
       "      <th>main_use</th>\n",
       "      <th>use_type</th>\n",
       "    </tr>\n",
       "  </thead>\n",
       "  <tbody>\n",
       "    <tr>\n",
       "      <th>0</th>\n",
       "      <td>住家用</td>\n",
       "      <td>1.0</td>\n",
       "    </tr>\n",
       "    <tr>\n",
       "      <th>1</th>\n",
       "      <td>住家用</td>\n",
       "      <td>1.0</td>\n",
       "    </tr>\n",
       "    <tr>\n",
       "      <th>2</th>\n",
       "      <td>見其他登記事項</td>\n",
       "      <td>4.0</td>\n",
       "    </tr>\n",
       "    <tr>\n",
       "      <th>3</th>\n",
       "      <td>住家用</td>\n",
       "      <td>1.0</td>\n",
       "    </tr>\n",
       "    <tr>\n",
       "      <th>4</th>\n",
       "      <td>見其他登記事項</td>\n",
       "      <td>4.0</td>\n",
       "    </tr>\n",
       "    <tr>\n",
       "      <th>...</th>\n",
       "      <td>...</td>\n",
       "      <td>...</td>\n",
       "    </tr>\n",
       "    <tr>\n",
       "      <th>6514</th>\n",
       "      <td>住家用</td>\n",
       "      <td>1.0</td>\n",
       "    </tr>\n",
       "    <tr>\n",
       "      <th>6515</th>\n",
       "      <td>住家用</td>\n",
       "      <td>1.0</td>\n",
       "    </tr>\n",
       "    <tr>\n",
       "      <th>6516</th>\n",
       "      <td>住家用</td>\n",
       "      <td>1.0</td>\n",
       "    </tr>\n",
       "    <tr>\n",
       "      <th>6517</th>\n",
       "      <td>NaN</td>\n",
       "      <td>NaN</td>\n",
       "    </tr>\n",
       "    <tr>\n",
       "      <th>6518</th>\n",
       "      <td>多戶集合住宅</td>\n",
       "      <td>1.0</td>\n",
       "    </tr>\n",
       "  </tbody>\n",
       "</table>\n",
       "<p>6519 rows × 2 columns</p>\n",
       "</div>"
      ],
      "text/plain": [
       "     main_use  use_type\n",
       "0         住家用       1.0\n",
       "1         住家用       1.0\n",
       "2     見其他登記事項       4.0\n",
       "3         住家用       1.0\n",
       "4     見其他登記事項       4.0\n",
       "...       ...       ...\n",
       "6514      住家用       1.0\n",
       "6515      住家用       1.0\n",
       "6516      住家用       1.0\n",
       "6517      NaN       NaN\n",
       "6518   多戶集合住宅       1.0\n",
       "\n",
       "[6519 rows x 2 columns]"
      ]
     },
     "execution_count": 360,
     "metadata": {},
     "output_type": "execute_result"
    }
   ],
   "source": [
    "df[['main_use', 'use_type']]"
   ]
  },
  {
   "cell_type": "markdown",
   "metadata": {},
   "source": [
    "### building_materials"
   ]
  },
  {
   "cell_type": "code",
   "execution_count": 361,
   "metadata": {},
   "outputs": [],
   "source": [
    "df['building_materials'] = np.where(df['building_materials']=='鋼筋混凝土造', 1,\n",
    "                                   np.where((df['building_materials']=='加強磚造')|(df['building_materials']=='磚造'), 2, 3))"
   ]
  },
  {
   "cell_type": "markdown",
   "metadata": {},
   "source": [
    "### compartment"
   ]
  },
  {
   "cell_type": "code",
   "execution_count": 362,
   "metadata": {},
   "outputs": [],
   "source": [
    "df['compartment'] = np.where(df['compartment'] == '有', 1, 0)"
   ]
  },
  {
   "cell_type": "markdown",
   "metadata": {},
   "source": [
    "### management"
   ]
  },
  {
   "cell_type": "code",
   "execution_count": 363,
   "metadata": {},
   "outputs": [],
   "source": [
    "df['management'] = np.where(df['management'] == '有', 1, 0)"
   ]
  },
  {
   "cell_type": "markdown",
   "metadata": {},
   "source": [
    "### elevator"
   ]
  },
  {
   "cell_type": "code",
   "execution_count": 364,
   "metadata": {},
   "outputs": [],
   "source": [
    "df['elevator'] = np.where(df['elevator'] == '有', 1, 0)"
   ]
  },
  {
   "cell_type": "markdown",
   "metadata": {},
   "source": [
    "### berth type"
   ]
  },
  {
   "cell_type": "code",
   "execution_count": 232,
   "metadata": {},
   "outputs": [],
   "source": [
    "# berth = df.groupby('berth_category').size().rename('count').reset_index().sort_values(by='count', ascending=False)\n",
    "# berth.to_csv('data/berth_type.csv', index=False)"
   ]
  },
  {
   "cell_type": "code",
   "execution_count": 365,
   "metadata": {},
   "outputs": [],
   "source": [
    "berth = pd.read_csv('data/temp_tables/berth_type.csv')"
   ]
  },
  {
   "cell_type": "code",
   "execution_count": 366,
   "metadata": {},
   "outputs": [],
   "source": [
    "df = df.merge(berth, how='left', on='berth_category')"
   ]
  },
  {
   "cell_type": "markdown",
   "metadata": {},
   "source": [
    "## address"
   ]
  },
  {
   "cell_type": "markdown",
   "metadata": {},
   "source": [
    "### road section"
   ]
  },
  {
   "cell_type": "code",
   "execution_count": 367,
   "metadata": {},
   "outputs": [
    {
     "name": "stderr",
     "output_type": "stream",
     "text": [
      "/usr/local/lib/python3.7/site-packages/ipykernel_launcher.py:5: SettingWithCopyWarning: \n",
      "A value is trying to be set on a copy of a slice from a DataFrame\n",
      "\n",
      "See the caveats in the documentation: https://pandas.pydata.org/pandas-docs/stable/user_guide/indexing.html#returning-a-view-versus-a-copy\n",
      "  \"\"\"\n",
      "/usr/local/lib/python3.7/site-packages/pandas/core/indexing.py:670: SettingWithCopyWarning: \n",
      "A value is trying to be set on a copy of a slice from a DataFrame\n",
      "\n",
      "See the caveats in the documentation: https://pandas.pydata.org/pandas-docs/stable/user_guide/indexing.html#returning-a-view-versus-a-copy\n",
      "  self._setitem_with_indexer(indexer, value)\n"
     ]
    }
   ],
   "source": [
    "df['road_section'] = 0\n",
    "\n",
    "for i in range(0, len(df)):\n",
    "    road = re.split(r'(\\d+)', df['address'][i])\n",
    "    df['road_section'][i] = road[0]"
   ]
  },
  {
   "cell_type": "code",
   "execution_count": 368,
   "metadata": {},
   "outputs": [
    {
     "data": {
      "text/html": [
       "<div>\n",
       "<style scoped>\n",
       "    .dataframe tbody tr th:only-of-type {\n",
       "        vertical-align: middle;\n",
       "    }\n",
       "\n",
       "    .dataframe tbody tr th {\n",
       "        vertical-align: top;\n",
       "    }\n",
       "\n",
       "    .dataframe thead th {\n",
       "        text-align: right;\n",
       "    }\n",
       "</style>\n",
       "<table border=\"1\" class=\"dataframe\">\n",
       "  <thead>\n",
       "    <tr style=\"text-align: right;\">\n",
       "      <th></th>\n",
       "      <th>address</th>\n",
       "      <th>road_section</th>\n",
       "    </tr>\n",
       "  </thead>\n",
       "  <tbody>\n",
       "    <tr>\n",
       "      <th>0</th>\n",
       "      <td>興隆路二段217巷1~30號</td>\n",
       "      <td>興隆路二段</td>\n",
       "    </tr>\n",
       "    <tr>\n",
       "      <th>1</th>\n",
       "      <td>和平東路四段65巷77弄1~30號</td>\n",
       "      <td>和平東路四段</td>\n",
       "    </tr>\n",
       "    <tr>\n",
       "      <th>2</th>\n",
       "      <td>羅斯福路六段26巷1~30號</td>\n",
       "      <td>羅斯福路六段</td>\n",
       "    </tr>\n",
       "    <tr>\n",
       "      <th>3</th>\n",
       "      <td>興隆路四段145巷31~60號</td>\n",
       "      <td>興隆路四段</td>\n",
       "    </tr>\n",
       "    <tr>\n",
       "      <th>4</th>\n",
       "      <td>興隆路三段192巷2弄1~30號</td>\n",
       "      <td>興隆路三段</td>\n",
       "    </tr>\n",
       "  </tbody>\n",
       "</table>\n",
       "</div>"
      ],
      "text/plain": [
       "             address road_section\n",
       "0     興隆路二段217巷1~30號        興隆路二段\n",
       "1  和平東路四段65巷77弄1~30號       和平東路四段\n",
       "2     羅斯福路六段26巷1~30號       羅斯福路六段\n",
       "3    興隆路四段145巷31~60號        興隆路四段\n",
       "4   興隆路三段192巷2弄1~30號        興隆路三段"
      ]
     },
     "execution_count": 368,
     "metadata": {},
     "output_type": "execute_result"
    }
   ],
   "source": [
    "df[['address', 'road_section']].head()"
   ]
  },
  {
   "cell_type": "code",
   "execution_count": 389,
   "metadata": {},
   "outputs": [
    {
     "data": {
      "text/plain": [
       "'興隆路二段217巷1~30號'"
      ]
     },
     "execution_count": 389,
     "metadata": {},
     "output_type": "execute_result"
    }
   ],
   "source": [
    "df['address'][0]"
   ]
  },
  {
   "cell_type": "markdown",
   "metadata": {},
   "source": [
    "### coordinate"
   ]
  },
  {
   "cell_type": "code",
   "execution_count": 404,
   "metadata": {},
   "outputs": [
    {
     "name": "stderr",
     "output_type": "stream",
     "text": [
      "/usr/local/lib/python3.7/site-packages/ipykernel_launcher.py:13: SettingWithCopyWarning: \n",
      "A value is trying to be set on a copy of a slice from a DataFrame\n",
      "\n",
      "See the caveats in the documentation: https://pandas.pydata.org/pandas-docs/stable/user_guide/indexing.html#returning-a-view-versus-a-copy\n",
      "  del sys.path[0]\n"
     ]
    }
   ],
   "source": [
    "df['address_exact'] = ''\n",
    "\n",
    "for i in range(0, len(df)):\n",
    "    address_s = ''\n",
    "    s = re.split(r'(\\d+)', df['address'][i])\n",
    "    \n",
    "    if len(s) >= 5:  \n",
    "        for j in range(len(s)-4):\n",
    "            address_s += s[j]\n",
    "        address_s += str(int(s[-2])-15)\n",
    "        address_s += s[-1]\n",
    "\n",
    "    df['address_exact'][i] = address_s\n",
    "    \n",
    "df['address_exact'] = '台北市'+df['district']+df['address_exact']"
   ]
  },
  {
   "cell_type": "code",
   "execution_count": 405,
   "metadata": {},
   "outputs": [
    {
     "data": {
      "text/html": [
       "<div>\n",
       "<style scoped>\n",
       "    .dataframe tbody tr th:only-of-type {\n",
       "        vertical-align: middle;\n",
       "    }\n",
       "\n",
       "    .dataframe tbody tr th {\n",
       "        vertical-align: top;\n",
       "    }\n",
       "\n",
       "    .dataframe thead th {\n",
       "        text-align: right;\n",
       "    }\n",
       "</style>\n",
       "<table border=\"1\" class=\"dataframe\">\n",
       "  <thead>\n",
       "    <tr style=\"text-align: right;\">\n",
       "      <th></th>\n",
       "      <th>district</th>\n",
       "      <th>address</th>\n",
       "      <th>address_exact</th>\n",
       "    </tr>\n",
       "  </thead>\n",
       "  <tbody>\n",
       "    <tr>\n",
       "      <th>0</th>\n",
       "      <td>文山區</td>\n",
       "      <td>興隆路二段217巷1~30號</td>\n",
       "      <td>台北市文山區興隆路二段217巷15號</td>\n",
       "    </tr>\n",
       "    <tr>\n",
       "      <th>1</th>\n",
       "      <td>文山區</td>\n",
       "      <td>和平東路四段65巷77弄1~30號</td>\n",
       "      <td>台北市文山區和平東路四段65巷77弄15號</td>\n",
       "    </tr>\n",
       "    <tr>\n",
       "      <th>2</th>\n",
       "      <td>文山區</td>\n",
       "      <td>羅斯福路六段26巷1~30號</td>\n",
       "      <td>台北市文山區羅斯福路六段26巷15號</td>\n",
       "    </tr>\n",
       "    <tr>\n",
       "      <th>3</th>\n",
       "      <td>文山區</td>\n",
       "      <td>興隆路四段145巷31~60號</td>\n",
       "      <td>台北市文山區興隆路四段145巷45號</td>\n",
       "    </tr>\n",
       "    <tr>\n",
       "      <th>4</th>\n",
       "      <td>文山區</td>\n",
       "      <td>興隆路三段192巷2弄1~30號</td>\n",
       "      <td>台北市文山區興隆路三段192巷2弄15號</td>\n",
       "    </tr>\n",
       "    <tr>\n",
       "      <th>...</th>\n",
       "      <td>...</td>\n",
       "      <td>...</td>\n",
       "      <td>...</td>\n",
       "    </tr>\n",
       "    <tr>\n",
       "      <th>6514</th>\n",
       "      <td>文山區</td>\n",
       "      <td>萬美街二段61~90號</td>\n",
       "      <td>台北市文山區萬美街二段75號</td>\n",
       "    </tr>\n",
       "    <tr>\n",
       "      <th>6515</th>\n",
       "      <td>文山區</td>\n",
       "      <td>興隆路一段271巷4弄1~30號</td>\n",
       "      <td>台北市文山區興隆路一段271巷4弄15號</td>\n",
       "    </tr>\n",
       "    <tr>\n",
       "      <th>6516</th>\n",
       "      <td>文山區</td>\n",
       "      <td>景華街82巷1~30號</td>\n",
       "      <td>台北市文山區景華街82巷15號</td>\n",
       "    </tr>\n",
       "    <tr>\n",
       "      <th>6517</th>\n",
       "      <td>中正區</td>\n",
       "      <td>延平南路61~90號</td>\n",
       "      <td>台北市中正區延平南路75號</td>\n",
       "    </tr>\n",
       "    <tr>\n",
       "      <th>6518</th>\n",
       "      <td>中正區</td>\n",
       "      <td>牯嶺街121~150號</td>\n",
       "      <td>台北市中正區牯嶺街135號</td>\n",
       "    </tr>\n",
       "  </tbody>\n",
       "</table>\n",
       "<p>6519 rows × 3 columns</p>\n",
       "</div>"
      ],
      "text/plain": [
       "     district            address          address_exact\n",
       "0         文山區     興隆路二段217巷1~30號     台北市文山區興隆路二段217巷15號\n",
       "1         文山區  和平東路四段65巷77弄1~30號  台北市文山區和平東路四段65巷77弄15號\n",
       "2         文山區     羅斯福路六段26巷1~30號     台北市文山區羅斯福路六段26巷15號\n",
       "3         文山區    興隆路四段145巷31~60號     台北市文山區興隆路四段145巷45號\n",
       "4         文山區   興隆路三段192巷2弄1~30號   台北市文山區興隆路三段192巷2弄15號\n",
       "...       ...                ...                    ...\n",
       "6514      文山區        萬美街二段61~90號         台北市文山區萬美街二段75號\n",
       "6515      文山區   興隆路一段271巷4弄1~30號   台北市文山區興隆路一段271巷4弄15號\n",
       "6516      文山區        景華街82巷1~30號        台北市文山區景華街82巷15號\n",
       "6517      中正區         延平南路61~90號          台北市中正區延平南路75號\n",
       "6518      中正區        牯嶺街121~150號          台北市中正區牯嶺街135號\n",
       "\n",
       "[6519 rows x 3 columns]"
      ]
     },
     "execution_count": 405,
     "metadata": {},
     "output_type": "execute_result"
    }
   ],
   "source": [
    "df[['district', 'address', 'address_exact']]"
   ]
  }
 ],
 "metadata": {
  "kernelspec": {
   "display_name": "Python 3",
   "language": "python",
   "name": "python3"
  },
  "language_info": {
   "codemirror_mode": {
    "name": "ipython",
    "version": 3
   },
   "file_extension": ".py",
   "mimetype": "text/x-python",
   "name": "python",
   "nbconvert_exporter": "python",
   "pygments_lexer": "ipython3",
   "version": "3.7.7"
  },
  "toc-autonumbering": true
 },
 "nbformat": 4,
 "nbformat_minor": 4
}
